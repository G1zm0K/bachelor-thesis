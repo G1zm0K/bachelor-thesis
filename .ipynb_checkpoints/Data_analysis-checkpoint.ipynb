{
 "cells": [
  {
   "cell_type": "code",
   "execution_count": 25,
   "id": "71074507",
   "metadata": {},
   "outputs": [],
   "source": [
    "def read_csv_files(csv_files):\n",
    "    data_frames = []\n",
    "    for file in csv_files:\n",
    "        df = pd.read_csv(file)\n",
    "        data_frames.append(df)\n",
    "    return pd.concat(data_frames)"
   ]
  },
  {
   "cell_type": "code",
   "execution_count": 26,
   "id": "2b6534b9",
   "metadata": {},
   "outputs": [],
   "source": [
    "import pandas as pd\n",
    "import matplotlib as plt"
   ]
  },
  {
   "cell_type": "code",
   "execution_count": 27,
   "id": "7b5026a9",
   "metadata": {},
   "outputs": [],
   "source": [
    "def analyze_data(df_with_error):\n",
    "    # Remove errors\n",
    "    num_errors = len([df_with_error['error'] == True])\n",
    "    filtered_df = df[df['error'] == True]\n",
    "    print(filtered_df)\n",
    "    # Calculate count of rows with accept or reject\n",
    "    accept_rows = filtered_df['accept-found'].sum()\n",
    "    reject_rows = filtered_df['reject-found'].sum()\n",
    "\n",
    "    # Print the analysis results\n",
    "    print(f\"Rows with errors: {num_errors}\")\n",
    "    print(f\"Rows with accept: {accept_rows}\")\n",
    "    print(f\"Rows with reject: {reject_rows}\")"
   ]
  },
  {
   "cell_type": "code",
   "execution_count": 28,
   "id": "bd93887b",
   "metadata": {},
   "outputs": [],
   "source": [
    "csv_files_nl = ['data/data_nl.csv']\n",
    "csv_files_de = ['data/data_de_1.csv','data/data_de_2.csv']\n",
    "csv_files_fr = ['data/data_fr.csv']\n",
    "csv_files_gb = ['data/data_gb_1.csv','data/data_gb_2.csv']\n",
    "csv_files_ie = ['data/data_ie.csv']\n",
    "\n",
    "df_nl = read_csv_files(csv_files_nl)\n",
    "df_de = read_csv_files(csv_files_de)\n",
    "df_fr = read_csv_files(csv_files_fr)\n",
    "df_gb = read_csv_files(csv_files_gb)\n",
    "df_ie = read_csv_files(csv_files_ie)"
   ]
  },
  {
   "cell_type": "code",
   "execution_count": 29,
   "id": "72731232",
   "metadata": {},
   "outputs": [
    {
     "name": "stdout",
     "output_type": "stream",
     "text": [
      "Rows with errors: 1\n",
      "Rows with accept: 75\n",
      "Rows with reject: 25\n",
      "Rows with errors: 1\n",
      "Rows with accept: 129\n",
      "Rows with reject: 57\n",
      "Rows with errors: 1\n",
      "Rows with accept: 137\n",
      "Rows with reject: 80\n",
      "Rows with errors: 1\n",
      "Rows with accept: 88\n",
      "Rows with reject: 9\n",
      "Rows with errors: 1\n",
      "Rows with accept: 91\n",
      "Rows with reject: 33\n"
     ]
    }
   ],
   "source": [
    "dfs = [df_nl,df_de,df_fr,df_gb,df_ie]\n",
    "for df in dfs:\n",
    "    analyze_data(df)"
   ]
  },
  {
   "cell_type": "code",
   "execution_count": null,
   "id": "227beb0a",
   "metadata": {},
   "outputs": [],
   "source": []
  },
  {
   "cell_type": "code",
   "execution_count": 24,
   "id": "2212c58b",
   "metadata": {},
   "outputs": [
    {
     "name": "stdout",
     "output_type": "stream",
     "text": [
      "   Accept-Found  Reject-Found\n",
      "0          3028          1142\n",
      "   Accept-Found  Reject-Found\n",
      "0          2892          1394\n",
      "   Accept-Found  Reject-Found\n",
      "0          3134          1996\n",
      "   Accept-Found  Reject-Found\n",
      "0          3003           827\n",
      "   Accept-Found  Reject-Found\n",
      "0          1985           861\n"
     ]
    }
   ],
   "source": [
    "# Calculate the counts of accept-found and reject-found\n",
    "dfs = [df_nl,df_de,df_fr,df_gb,df_ie]\n",
    "for df in dfs:\n",
    "    accept_found_count = df['accept-found'].sum()\n",
    "    reject_found_count = df['reject-found'].sum()\n",
    "    # Create a table\n",
    "    data = {'Accept-Found': [accept_found_count], 'Reject-Found': [reject_found_count]}\n",
    "    table_df = pd.DataFrame(data)\n",
    "    print(table_df)"
   ]
  },
  {
   "cell_type": "code",
   "execution_count": null,
   "id": "e7f7ff00",
   "metadata": {},
   "outputs": [],
   "source": []
  }
 ],
 "metadata": {
  "kernelspec": {
   "display_name": "Python 3 (ipykernel)",
   "language": "python",
   "name": "python3"
  },
  "language_info": {
   "codemirror_mode": {
    "name": "ipython",
    "version": 3
   },
   "file_extension": ".py",
   "mimetype": "text/x-python",
   "name": "python",
   "nbconvert_exporter": "python",
   "pygments_lexer": "ipython3",
   "version": "3.10.11"
  }
 },
 "nbformat": 4,
 "nbformat_minor": 5
}
